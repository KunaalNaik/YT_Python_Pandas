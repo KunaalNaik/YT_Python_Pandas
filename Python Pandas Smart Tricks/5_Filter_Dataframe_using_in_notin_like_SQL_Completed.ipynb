{
 "cells": [
  {
   "cell_type": "code",
   "execution_count": null,
   "metadata": {},
   "outputs": [],
   "source": [
    "import pandas as pd\n",
    "import numpy as np"
   ]
  },
  {
   "cell_type": "code",
   "execution_count": null,
   "metadata": {},
   "outputs": [],
   "source": [
    "sales = pd.read_csv('sales.csv')\n",
    "sales"
   ]
  },
  {
   "cell_type": "markdown",
   "metadata": {},
   "source": [
    "### Method 1"
   ]
  },
  {
   "cell_type": "code",
   "execution_count": null,
   "metadata": {},
   "outputs": [],
   "source": [
    "#Select 2 SalesReps based on SQL's \"in\" - Filter for ['Amy','Bob']\n",
    "sales[sales.SalesRep.isin(['Amy','Bob'])]"
   ]
  },
  {
   "cell_type": "code",
   "execution_count": null,
   "metadata": {},
   "outputs": [],
   "source": [
    "#Select 2 SalesReps based on SQL's \"not in\"\n",
    "sales[~sales.SalesRep.isin(['Amy','Bob'])]"
   ]
  },
  {
   "cell_type": "markdown",
   "metadata": {},
   "source": [
    "### Method 2"
   ]
  },
  {
   "cell_type": "code",
   "execution_count": null,
   "metadata": {
    "scrolled": true
   },
   "outputs": [],
   "source": [
    "#isin\n",
    "#Create a list of SalesRep's you want to select. To select then use 'isin'\n",
    "filter_SalesRep = ['Amy','Bob']\n",
    "sales[sales.SalesRep.isin(filter_SalesRep)]"
   ]
  },
  {
   "cell_type": "code",
   "execution_count": null,
   "metadata": {
    "scrolled": true
   },
   "outputs": [],
   "source": [
    "#not in\n",
    "#Create a list of SalesRep's you want to select. To select then use 'isin' along with the '~'\n",
    "filter_SalesRep = ['Amy','Bob']\n",
    "sales[~sales.SalesRep.isin(filter_SalesRep)]"
   ]
  },
  {
   "cell_type": "markdown",
   "metadata": {},
   "source": [
    "### Method 3 - Multiple Criteria"
   ]
  },
  {
   "cell_type": "code",
   "execution_count": null,
   "metadata": {
    "scrolled": true
   },
   "outputs": [],
   "source": [
    "#in\n",
    "#You can ue 2 filters using & operator and provide seperate list for each column - use '&'\n",
    "filter_SalesRep = ['Amy','Bob']\n",
    "filter_Region = ['North', 'West']\n",
    "sales[sales.SalesRep.isin(filter_SalesRep) & sales.Region.isin(filter_Region)]"
   ]
  },
  {
   "cell_type": "code",
   "execution_count": null,
   "metadata": {},
   "outputs": [],
   "source": [
    "#in & not in\n",
    "#Just use the '~' in front of column you don't want values from\n",
    "filter_SalesRep = ['Amy','Bob']\n",
    "filter_Region = ['North', 'West']\n",
    "sales[sales.SalesRep.isin(filter_SalesRep) & ~sales.Region.isin(filter_Region)]"
   ]
  },
  {
   "cell_type": "markdown",
   "metadata": {},
   "source": [
    "### Method 4 - Using Numpy"
   ]
  },
  {
   "cell_type": "code",
   "execution_count": null,
   "metadata": {
    "scrolled": true
   },
   "outputs": [],
   "source": [
    "#in\n",
    "filter_SalesRep = ['Amy','Bob']\n",
    "sales[np.isin(sales.SalesRep,filter_SalesRep)]"
   ]
  },
  {
   "cell_type": "code",
   "execution_count": null,
   "metadata": {},
   "outputs": [],
   "source": [
    "#not in\n",
    "filter_SalesRep = ['Amy','Bob']\n",
    "sales[np.isin(sales.SalesRep,filter_SalesRep, invert = True)]"
   ]
  },
  {
   "cell_type": "markdown",
   "metadata": {},
   "source": [
    "### Method 5 - Using List Comprehensions"
   ]
  },
  {
   "cell_type": "code",
   "execution_count": null,
   "metadata": {
    "scrolled": true
   },
   "outputs": [],
   "source": [
    "#in\n",
    "filter_SalesRep = ['Amy','Bob']\n",
    "sales[[x in filter_SalesRep for x in sales.SalesRep]]"
   ]
  },
  {
   "cell_type": "code",
   "execution_count": null,
   "metadata": {},
   "outputs": [],
   "source": [
    "#not in\n",
    "filter_SalesRep = ['Amy','Bob']\n",
    "sales[[x not in filter_SalesRep for x in sales.SalesRep]]"
   ]
  },
  {
   "cell_type": "markdown",
   "metadata": {},
   "source": [
    "### Method 6 - Select Rows based on wherever the value is present in any Column"
   ]
  },
  {
   "cell_type": "code",
   "execution_count": null,
   "metadata": {},
   "outputs": [],
   "source": [
    "games = pd.read_csv('games.csv')\n",
    "games"
   ]
  },
  {
   "cell_type": "code",
   "execution_count": null,
   "metadata": {},
   "outputs": [],
   "source": [
    "games[['Game2','Game4']]"
   ]
  },
  {
   "cell_type": "code",
   "execution_count": null,
   "metadata": {},
   "outputs": [],
   "source": [
    "criteria = ['Yes']\n",
    "games[games[['Game2','Game4']].isin(criteria).any(axis=1)]"
   ]
  },
  {
   "cell_type": "markdown",
   "metadata": {},
   "source": [
    "### END"
   ]
  }
 ],
 "metadata": {
  "kernelspec": {
   "display_name": "Python 3",
   "language": "python",
   "name": "python3"
  },
  "language_info": {
   "codemirror_mode": {
    "name": "ipython",
    "version": 3
   },
   "file_extension": ".py",
   "mimetype": "text/x-python",
   "name": "python",
   "nbconvert_exporter": "python",
   "pygments_lexer": "ipython3",
   "version": "3.7.6"
  }
 },
 "nbformat": 4,
 "nbformat_minor": 2
}
