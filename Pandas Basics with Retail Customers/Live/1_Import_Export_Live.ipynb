{
 "cells": [
  {
   "cell_type": "markdown",
   "metadata": {},
   "source": [
    "# Questions\n",
    "1. Analyse the Data Quality of Retail Datasets\n",
    "2. For columns with missing values, find the count of missing values\n",
    "3. Find the number of Respondents of a recent Email campaign\n",
    "4. Provide the list of Repondents in a Excel format with Customer details \n",
    "5. Transactions data takes too much space. Can you reduce the size for storing?"
   ]
  },
  {
   "cell_type": "markdown",
   "metadata": {},
   "source": [
    "# Data Import and Export"
   ]
  },
  {
   "cell_type": "code",
   "execution_count": 73,
   "metadata": {},
   "outputs": [],
   "source": [
    "#Import Libraries\n"
   ]
  },
  {
   "cell_type": "markdown",
   "metadata": {},
   "source": [
    "## Analyse the Data Quality of Retail Datasets\n",
    "**Concepts Covered:**\n",
    "1. Reading comma seperated files (.read_csv())\n",
    "2. Gathering meta data from Dataframes (.info())\n",
    "3. Extracting Summary Statistics from Dataframes (.describe())\n",
    "4. Showing descriptive statistics for categorical variables (include = 'all')\n",
    "5. (.shape) to find the number of rows and columns in a Dataframe \n",
    "6. Investigate datatypes in a dataframe using (.dtypes) and (.column)\n",
    "7. Convert Date columns to datetime format (.to_datetime())"
   ]
  },
  {
   "cell_type": "markdown",
   "metadata": {},
   "source": [
    "### Reading comma seperated files (.read_csv())"
   ]
  },
  {
   "cell_type": "code",
   "execution_count": 74,
   "metadata": {},
   "outputs": [],
   "source": [
    "#We can import a CSV file, provided its present in the same folder as this notebook\n"
   ]
  },
  {
   "cell_type": "code",
   "execution_count": 75,
   "metadata": {},
   "outputs": [],
   "source": [
    "#Similarly we can import the transactions and summary data\n",
    "\n"
   ]
  },
  {
   "cell_type": "markdown",
   "metadata": {},
   "source": [
    "### Gathering meta data from Dataframes (.info())"
   ]
  },
  {
   "cell_type": "code",
   "execution_count": 76,
   "metadata": {},
   "outputs": [
    {
     "name": "stdout",
     "output_type": "stream",
     "text": [
      "<class 'pandas.core.frame.DataFrame'>\n",
      "RangeIndex: 6889 entries, 0 to 6888\n",
      "Data columns (total 13 columns):\n",
      "customer_id           6889 non-null object\n",
      "tran_amount_2011      6501 non-null float64\n",
      "tran_amount_2012      6809 non-null float64\n",
      "tran_amount_2013      6804 non-null float64\n",
      "tran_amount_2014      6801 non-null float64\n",
      "tran_amount_2015      4225 non-null float64\n",
      "transactions_2011     6501 non-null float64\n",
      "transactions_2012     6809 non-null float64\n",
      "transactions_2013     6804 non-null float64\n",
      "transactions_2014     6801 non-null float64\n",
      "transactions_2015     4225 non-null float64\n",
      "First_Transaction     6889 non-null object\n",
      "Latest_Transaction    6889 non-null object\n",
      "dtypes: float64(10), object(3)\n",
      "memory usage: 699.8+ KB\n"
     ]
    }
   ],
   "source": [
    "#Using info() will provide us with the column names and their data types\n"
   ]
  },
  {
   "cell_type": "markdown",
   "metadata": {},
   "source": [
    "### Extracting Summary Statistics from Dataframes (.describe())"
   ]
  },
  {
   "cell_type": "code",
   "execution_count": 77,
   "metadata": {},
   "outputs": [
    {
     "data": {
      "text/html": [
       "<div>\n",
       "<style scoped>\n",
       "    .dataframe tbody tr th:only-of-type {\n",
       "        vertical-align: middle;\n",
       "    }\n",
       "\n",
       "    .dataframe tbody tr th {\n",
       "        vertical-align: top;\n",
       "    }\n",
       "\n",
       "    .dataframe thead th {\n",
       "        text-align: right;\n",
       "    }\n",
       "</style>\n",
       "<table border=\"1\" class=\"dataframe\">\n",
       "  <thead>\n",
       "    <tr style=\"text-align: right;\">\n",
       "      <th></th>\n",
       "      <th>tran_amount_2011</th>\n",
       "      <th>tran_amount_2012</th>\n",
       "      <th>tran_amount_2013</th>\n",
       "      <th>tran_amount_2014</th>\n",
       "      <th>tran_amount_2015</th>\n",
       "      <th>transactions_2011</th>\n",
       "      <th>transactions_2012</th>\n",
       "      <th>transactions_2013</th>\n",
       "      <th>transactions_2014</th>\n",
       "      <th>transactions_2015</th>\n",
       "    </tr>\n",
       "  </thead>\n",
       "  <tbody>\n",
       "    <tr>\n",
       "      <th>count</th>\n",
       "      <td>6501.000000</td>\n",
       "      <td>6809.000000</td>\n",
       "      <td>6804.000000</td>\n",
       "      <td>6801.000000</td>\n",
       "      <td>4225.000000</td>\n",
       "      <td>6501.000000</td>\n",
       "      <td>6809.000000</td>\n",
       "      <td>6804.000000</td>\n",
       "      <td>6801.000000</td>\n",
       "      <td>4225.000000</td>\n",
       "    </tr>\n",
       "    <tr>\n",
       "      <th>mean</th>\n",
       "      <td>206.174281</td>\n",
       "      <td>310.853136</td>\n",
       "      <td>314.134039</td>\n",
       "      <td>307.970593</td>\n",
       "      <td>103.000000</td>\n",
       "      <td>3.177665</td>\n",
       "      <td>4.779116</td>\n",
       "      <td>4.835979</td>\n",
       "      <td>4.738421</td>\n",
       "      <td>1.578935</td>\n",
       "    </tr>\n",
       "    <tr>\n",
       "      <th>std</th>\n",
       "      <td>128.092642</td>\n",
       "      <td>175.768279</td>\n",
       "      <td>175.743597</td>\n",
       "      <td>170.769072</td>\n",
       "      <td>66.204169</td>\n",
       "      <td>1.697319</td>\n",
       "      <td>2.265040</td>\n",
       "      <td>2.277427</td>\n",
       "      <td>2.192086</td>\n",
       "      <td>0.840771</td>\n",
       "    </tr>\n",
       "    <tr>\n",
       "      <th>min</th>\n",
       "      <td>10.000000</td>\n",
       "      <td>10.000000</td>\n",
       "      <td>10.000000</td>\n",
       "      <td>10.000000</td>\n",
       "      <td>10.000000</td>\n",
       "      <td>1.000000</td>\n",
       "      <td>1.000000</td>\n",
       "      <td>1.000000</td>\n",
       "      <td>1.000000</td>\n",
       "      <td>1.000000</td>\n",
       "    </tr>\n",
       "    <tr>\n",
       "      <th>25%</th>\n",
       "      <td>104.000000</td>\n",
       "      <td>175.000000</td>\n",
       "      <td>175.000000</td>\n",
       "      <td>175.000000</td>\n",
       "      <td>56.000000</td>\n",
       "      <td>2.000000</td>\n",
       "      <td>3.000000</td>\n",
       "      <td>3.000000</td>\n",
       "      <td>3.000000</td>\n",
       "      <td>1.000000</td>\n",
       "    </tr>\n",
       "    <tr>\n",
       "      <th>50%</th>\n",
       "      <td>184.000000</td>\n",
       "      <td>288.000000</td>\n",
       "      <td>293.000000</td>\n",
       "      <td>288.000000</td>\n",
       "      <td>85.000000</td>\n",
       "      <td>3.000000</td>\n",
       "      <td>5.000000</td>\n",
       "      <td>5.000000</td>\n",
       "      <td>5.000000</td>\n",
       "      <td>1.000000</td>\n",
       "    </tr>\n",
       "    <tr>\n",
       "      <th>75%</th>\n",
       "      <td>282.000000</td>\n",
       "      <td>426.000000</td>\n",
       "      <td>430.000000</td>\n",
       "      <td>418.000000</td>\n",
       "      <td>136.000000</td>\n",
       "      <td>4.000000</td>\n",
       "      <td>6.000000</td>\n",
       "      <td>6.000000</td>\n",
       "      <td>6.000000</td>\n",
       "      <td>2.000000</td>\n",
       "    </tr>\n",
       "    <tr>\n",
       "      <th>max</th>\n",
       "      <td>849.000000</td>\n",
       "      <td>1242.000000</td>\n",
       "      <td>1317.000000</td>\n",
       "      <td>1029.000000</td>\n",
       "      <td>538.000000</td>\n",
       "      <td>11.000000</td>\n",
       "      <td>18.000000</td>\n",
       "      <td>17.000000</td>\n",
       "      <td>15.000000</td>\n",
       "      <td>7.000000</td>\n",
       "    </tr>\n",
       "  </tbody>\n",
       "</table>\n",
       "</div>"
      ],
      "text/plain": [
       "       tran_amount_2011  tran_amount_2012  tran_amount_2013  tran_amount_2014  \\\n",
       "count       6501.000000       6809.000000       6804.000000       6801.000000   \n",
       "mean         206.174281        310.853136        314.134039        307.970593   \n",
       "std          128.092642        175.768279        175.743597        170.769072   \n",
       "min           10.000000         10.000000         10.000000         10.000000   \n",
       "25%          104.000000        175.000000        175.000000        175.000000   \n",
       "50%          184.000000        288.000000        293.000000        288.000000   \n",
       "75%          282.000000        426.000000        430.000000        418.000000   \n",
       "max          849.000000       1242.000000       1317.000000       1029.000000   \n",
       "\n",
       "       tran_amount_2015  transactions_2011  transactions_2012  \\\n",
       "count       4225.000000        6501.000000        6809.000000   \n",
       "mean         103.000000           3.177665           4.779116   \n",
       "std           66.204169           1.697319           2.265040   \n",
       "min           10.000000           1.000000           1.000000   \n",
       "25%           56.000000           2.000000           3.000000   \n",
       "50%           85.000000           3.000000           5.000000   \n",
       "75%          136.000000           4.000000           6.000000   \n",
       "max          538.000000          11.000000          18.000000   \n",
       "\n",
       "       transactions_2013  transactions_2014  transactions_2015  \n",
       "count        6804.000000        6801.000000        4225.000000  \n",
       "mean            4.835979           4.738421           1.578935  \n",
       "std             2.277427           2.192086           0.840771  \n",
       "min             1.000000           1.000000           1.000000  \n",
       "25%             3.000000           3.000000           1.000000  \n",
       "50%             5.000000           5.000000           1.000000  \n",
       "75%             6.000000           6.000000           2.000000  \n",
       "max            17.000000          15.000000           7.000000  "
      ]
     },
     "execution_count": 77,
     "metadata": {},
     "output_type": "execute_result"
    }
   ],
   "source": [
    "#Using describe() will provide us with descriptive statistics of the dataframe\n"
   ]
  },
  {
   "cell_type": "code",
   "execution_count": 78,
   "metadata": {},
   "outputs": [
    {
     "data": {
      "text/html": [
       "<div>\n",
       "<style scoped>\n",
       "    .dataframe tbody tr th:only-of-type {\n",
       "        vertical-align: middle;\n",
       "    }\n",
       "\n",
       "    .dataframe tbody tr th {\n",
       "        vertical-align: top;\n",
       "    }\n",
       "\n",
       "    .dataframe thead th {\n",
       "        text-align: right;\n",
       "    }\n",
       "</style>\n",
       "<table border=\"1\" class=\"dataframe\">\n",
       "  <thead>\n",
       "    <tr style=\"text-align: right;\">\n",
       "      <th></th>\n",
       "      <th>Age</th>\n",
       "    </tr>\n",
       "  </thead>\n",
       "  <tbody>\n",
       "    <tr>\n",
       "      <th>count</th>\n",
       "      <td>6830.000000</td>\n",
       "    </tr>\n",
       "    <tr>\n",
       "      <th>mean</th>\n",
       "      <td>38.879795</td>\n",
       "    </tr>\n",
       "    <tr>\n",
       "      <th>std</th>\n",
       "      <td>10.541763</td>\n",
       "    </tr>\n",
       "    <tr>\n",
       "      <th>min</th>\n",
       "      <td>18.000000</td>\n",
       "    </tr>\n",
       "    <tr>\n",
       "      <th>25%</th>\n",
       "      <td>32.000000</td>\n",
       "    </tr>\n",
       "    <tr>\n",
       "      <th>50%</th>\n",
       "      <td>37.000000</td>\n",
       "    </tr>\n",
       "    <tr>\n",
       "      <th>75%</th>\n",
       "      <td>44.000000</td>\n",
       "    </tr>\n",
       "    <tr>\n",
       "      <th>max</th>\n",
       "      <td>92.000000</td>\n",
       "    </tr>\n",
       "  </tbody>\n",
       "</table>\n",
       "</div>"
      ],
      "text/plain": [
       "               Age\n",
       "count  6830.000000\n",
       "mean     38.879795\n",
       "std      10.541763\n",
       "min      18.000000\n",
       "25%      32.000000\n",
       "50%      37.000000\n",
       "75%      44.000000\n",
       "max      92.000000"
      ]
     },
     "execution_count": 78,
     "metadata": {},
     "output_type": "execute_result"
    }
   ],
   "source": [
    "#Lets check it for customers dataframe\n"
   ]
  },
  {
   "cell_type": "markdown",
   "metadata": {},
   "source": [
    "### Showing descriptive statistics for categorical variables (include = 'all')"
   ]
  },
  {
   "cell_type": "code",
   "execution_count": 1,
   "metadata": {},
   "outputs": [],
   "source": [
    "#We can get the descriptive statistics for the categorical columns too\n"
   ]
  },
  {
   "cell_type": "markdown",
   "metadata": {},
   "source": [
    "### (.shape) to find the number of rows and columns in a Dataframe"
   ]
  },
  {
   "cell_type": "code",
   "execution_count": 80,
   "metadata": {},
   "outputs": [
    {
     "data": {
      "text/plain": [
       "(6901, 5)"
      ]
     },
     "execution_count": 80,
     "metadata": {},
     "output_type": "execute_result"
    }
   ],
   "source": [
    "#Using shape we can find out the number of unique customers in the Dataframe\n"
   ]
  },
  {
   "cell_type": "code",
   "execution_count": 81,
   "metadata": {},
   "outputs": [
    {
     "data": {
      "text/plain": [
       "(125000, 3)"
      ]
     },
     "execution_count": 81,
     "metadata": {},
     "output_type": "execute_result"
    }
   ],
   "source": [
    "#Transaction will have a huge number of records made by each of the customers in the above table\n"
   ]
  },
  {
   "cell_type": "code",
   "execution_count": 82,
   "metadata": {},
   "outputs": [
    {
     "data": {
      "text/plain": [
       "(6889, 13)"
      ]
     },
     "execution_count": 82,
     "metadata": {},
     "output_type": "execute_result"
    }
   ],
   "source": [
    "#Summary of transaction as customer level, 2 customers did not make purchase from Retail Shop\n"
   ]
  },
  {
   "cell_type": "markdown",
   "metadata": {},
   "source": [
    "### Investigate datatypes in a dataframe using (.dtypes) and (.column)"
   ]
  },
  {
   "cell_type": "code",
   "execution_count": 83,
   "metadata": {},
   "outputs": [
    {
     "data": {
      "text/html": [
       "<div>\n",
       "<style scoped>\n",
       "    .dataframe tbody tr th:only-of-type {\n",
       "        vertical-align: middle;\n",
       "    }\n",
       "\n",
       "    .dataframe tbody tr th {\n",
       "        vertical-align: top;\n",
       "    }\n",
       "\n",
       "    .dataframe thead th {\n",
       "        text-align: right;\n",
       "    }\n",
       "</style>\n",
       "<table border=\"1\" class=\"dataframe\">\n",
       "  <thead>\n",
       "    <tr style=\"text-align: right;\">\n",
       "      <th></th>\n",
       "      <th>customer_id</th>\n",
       "      <th>trans_date</th>\n",
       "      <th>tran_amount</th>\n",
       "    </tr>\n",
       "  </thead>\n",
       "  <tbody>\n",
       "    <tr>\n",
       "      <th>0</th>\n",
       "      <td>CS5295</td>\n",
       "      <td>11-Feb-13</td>\n",
       "      <td>35</td>\n",
       "    </tr>\n",
       "  </tbody>\n",
       "</table>\n",
       "</div>"
      ],
      "text/plain": [
       "  customer_id trans_date  tran_amount\n",
       "0      CS5295  11-Feb-13           35"
      ]
     },
     "execution_count": 83,
     "metadata": {},
     "output_type": "execute_result"
    }
   ],
   "source": [
    "#Lets check the transaction data \n"
   ]
  },
  {
   "cell_type": "code",
   "execution_count": 84,
   "metadata": {},
   "outputs": [
    {
     "data": {
      "text/plain": [
       "customer_id    object\n",
       "trans_date     object\n",
       "tran_amount     int64\n",
       "dtype: object"
      ]
     },
     "execution_count": 84,
     "metadata": {},
     "output_type": "execute_result"
    }
   ],
   "source": [
    "#Instead info(), we could use (.dtypes) to get the Datatypes of all the columns\n"
   ]
  },
  {
   "cell_type": "code",
   "execution_count": 85,
   "metadata": {},
   "outputs": [
    {
     "data": {
      "text/plain": [
       "Index(['customer_id', 'trans_date', 'tran_amount'], dtype='object')"
      ]
     },
     "execution_count": 85,
     "metadata": {},
     "output_type": "execute_result"
    }
   ],
   "source": [
    "#Similary we could get the list of column names using (.columns)\n"
   ]
  },
  {
   "cell_type": "markdown",
   "metadata": {},
   "source": [
    "### Convert Date columns to datetime format (.to_datetime())"
   ]
  },
  {
   "cell_type": "code",
   "execution_count": 86,
   "metadata": {},
   "outputs": [],
   "source": [
    "#Lets convert trans_date column to datetime datatype\n"
   ]
  },
  {
   "cell_type": "code",
   "execution_count": 87,
   "metadata": {},
   "outputs": [
    {
     "data": {
      "text/plain": [
       "customer_id            object\n",
       "trans_date     datetime64[ns]\n",
       "tran_amount             int64\n",
       "dtype: object"
      ]
     },
     "execution_count": 87,
     "metadata": {},
     "output_type": "execute_result"
    }
   ],
   "source": [
    "#Lets check the datatypes now\n"
   ]
  },
  {
   "cell_type": "code",
   "execution_count": 88,
   "metadata": {},
   "outputs": [
    {
     "data": {
      "text/html": [
       "<div>\n",
       "<style scoped>\n",
       "    .dataframe tbody tr th:only-of-type {\n",
       "        vertical-align: middle;\n",
       "    }\n",
       "\n",
       "    .dataframe tbody tr th {\n",
       "        vertical-align: top;\n",
       "    }\n",
       "\n",
       "    .dataframe thead th {\n",
       "        text-align: right;\n",
       "    }\n",
       "</style>\n",
       "<table border=\"1\" class=\"dataframe\">\n",
       "  <thead>\n",
       "    <tr style=\"text-align: right;\">\n",
       "      <th></th>\n",
       "      <th>customer_id</th>\n",
       "      <th>tran_amount_2011</th>\n",
       "      <th>tran_amount_2012</th>\n",
       "      <th>tran_amount_2013</th>\n",
       "      <th>tran_amount_2014</th>\n",
       "      <th>tran_amount_2015</th>\n",
       "      <th>transactions_2011</th>\n",
       "      <th>transactions_2012</th>\n",
       "      <th>transactions_2013</th>\n",
       "      <th>transactions_2014</th>\n",
       "      <th>transactions_2015</th>\n",
       "      <th>First_Transaction</th>\n",
       "      <th>Latest_Transaction</th>\n",
       "    </tr>\n",
       "  </thead>\n",
       "  <tbody>\n",
       "    <tr>\n",
       "      <th>0</th>\n",
       "      <td>CS2945</td>\n",
       "      <td>153.0</td>\n",
       "      <td>516.0</td>\n",
       "      <td>173.0</td>\n",
       "      <td>1029.0</td>\n",
       "      <td>40.0</td>\n",
       "      <td>2.0</td>\n",
       "      <td>7.0</td>\n",
       "      <td>3.0</td>\n",
       "      <td>13.0</td>\n",
       "      <td>1.0</td>\n",
       "      <td>18-May-11</td>\n",
       "      <td>08-Mar-15</td>\n",
       "    </tr>\n",
       "  </tbody>\n",
       "</table>\n",
       "</div>"
      ],
      "text/plain": [
       "  customer_id  tran_amount_2011  tran_amount_2012  tran_amount_2013  \\\n",
       "0      CS2945             153.0             516.0             173.0   \n",
       "\n",
       "   tran_amount_2014  tran_amount_2015  transactions_2011  transactions_2012  \\\n",
       "0            1029.0              40.0                2.0                7.0   \n",
       "\n",
       "   transactions_2013  transactions_2014  transactions_2015 First_Transaction  \\\n",
       "0                3.0               13.0                1.0         18-May-11   \n",
       "\n",
       "  Latest_Transaction  \n",
       "0          08-Mar-15  "
      ]
     },
     "execution_count": 88,
     "metadata": {},
     "output_type": "execute_result"
    }
   ],
   "source": [
    "#Similarly we could do the same for date columns in summary dataframe\n"
   ]
  },
  {
   "cell_type": "code",
   "execution_count": 89,
   "metadata": {},
   "outputs": [],
   "source": [
    "#Lets convert trans_date column to datetime datatype\n"
   ]
  },
  {
   "cell_type": "code",
   "execution_count": 90,
   "metadata": {},
   "outputs": [
    {
     "data": {
      "text/plain": [
       "customer_id                   object\n",
       "tran_amount_2011             float64\n",
       "tran_amount_2012             float64\n",
       "tran_amount_2013             float64\n",
       "tran_amount_2014             float64\n",
       "tran_amount_2015             float64\n",
       "transactions_2011            float64\n",
       "transactions_2012            float64\n",
       "transactions_2013            float64\n",
       "transactions_2014            float64\n",
       "transactions_2015            float64\n",
       "First_Transaction     datetime64[ns]\n",
       "Latest_Transaction    datetime64[ns]\n",
       "dtype: object"
      ]
     },
     "execution_count": 90,
     "metadata": {},
     "output_type": "execute_result"
    }
   ],
   "source": [
    "#Lets check the datatypes\n"
   ]
  },
  {
   "cell_type": "markdown",
   "metadata": {},
   "source": [
    "## For columns with missing values, find the count of missing values\n",
    "**Concepts Covered:**\n",
    "1. Using (.isnull()) to find missing values\n",
    "2. Using (.isnull() & .sum()) to find count of missing values"
   ]
  },
  {
   "cell_type": "code",
   "execution_count": 91,
   "metadata": {},
   "outputs": [
    {
     "name": "stdout",
     "output_type": "stream",
     "text": [
      "<class 'pandas.core.frame.DataFrame'>\n",
      "RangeIndex: 6889 entries, 0 to 6888\n",
      "Data columns (total 13 columns):\n",
      "customer_id           6889 non-null object\n",
      "tran_amount_2011      6501 non-null float64\n",
      "tran_amount_2012      6809 non-null float64\n",
      "tran_amount_2013      6804 non-null float64\n",
      "tran_amount_2014      6801 non-null float64\n",
      "tran_amount_2015      4225 non-null float64\n",
      "transactions_2011     6501 non-null float64\n",
      "transactions_2012     6809 non-null float64\n",
      "transactions_2013     6804 non-null float64\n",
      "transactions_2014     6801 non-null float64\n",
      "transactions_2015     4225 non-null float64\n",
      "First_Transaction     6889 non-null datetime64[ns]\n",
      "Latest_Transaction    6889 non-null datetime64[ns]\n",
      "dtypes: datetime64[ns](2), float64(10), object(1)\n",
      "memory usage: 699.8+ KB\n"
     ]
    }
   ],
   "source": [
    "#lets check for missing values in Retail Summary\n"
   ]
  },
  {
   "cell_type": "markdown",
   "metadata": {},
   "source": [
    "### Using (.isnull()) to find missing values"
   ]
  },
  {
   "cell_type": "code",
   "execution_count": 92,
   "metadata": {},
   "outputs": [
    {
     "data": {
      "text/html": [
       "<div>\n",
       "<style scoped>\n",
       "    .dataframe tbody tr th:only-of-type {\n",
       "        vertical-align: middle;\n",
       "    }\n",
       "\n",
       "    .dataframe tbody tr th {\n",
       "        vertical-align: top;\n",
       "    }\n",
       "\n",
       "    .dataframe thead th {\n",
       "        text-align: right;\n",
       "    }\n",
       "</style>\n",
       "<table border=\"1\" class=\"dataframe\">\n",
       "  <thead>\n",
       "    <tr style=\"text-align: right;\">\n",
       "      <th></th>\n",
       "      <th>customer_id</th>\n",
       "      <th>tran_amount_2011</th>\n",
       "      <th>tran_amount_2012</th>\n",
       "      <th>tran_amount_2013</th>\n",
       "      <th>tran_amount_2014</th>\n",
       "      <th>tran_amount_2015</th>\n",
       "      <th>transactions_2011</th>\n",
       "      <th>transactions_2012</th>\n",
       "      <th>transactions_2013</th>\n",
       "      <th>transactions_2014</th>\n",
       "      <th>transactions_2015</th>\n",
       "      <th>First_Transaction</th>\n",
       "      <th>Latest_Transaction</th>\n",
       "    </tr>\n",
       "  </thead>\n",
       "  <tbody>\n",
       "    <tr>\n",
       "      <th>0</th>\n",
       "      <td>False</td>\n",
       "      <td>False</td>\n",
       "      <td>False</td>\n",
       "      <td>False</td>\n",
       "      <td>False</td>\n",
       "      <td>False</td>\n",
       "      <td>False</td>\n",
       "      <td>False</td>\n",
       "      <td>False</td>\n",
       "      <td>False</td>\n",
       "      <td>False</td>\n",
       "      <td>False</td>\n",
       "      <td>False</td>\n",
       "    </tr>\n",
       "    <tr>\n",
       "      <th>1</th>\n",
       "      <td>False</td>\n",
       "      <td>False</td>\n",
       "      <td>False</td>\n",
       "      <td>False</td>\n",
       "      <td>False</td>\n",
       "      <td>True</td>\n",
       "      <td>False</td>\n",
       "      <td>False</td>\n",
       "      <td>False</td>\n",
       "      <td>False</td>\n",
       "      <td>True</td>\n",
       "      <td>False</td>\n",
       "      <td>False</td>\n",
       "    </tr>\n",
       "    <tr>\n",
       "      <th>2</th>\n",
       "      <td>False</td>\n",
       "      <td>False</td>\n",
       "      <td>False</td>\n",
       "      <td>False</td>\n",
       "      <td>False</td>\n",
       "      <td>False</td>\n",
       "      <td>False</td>\n",
       "      <td>False</td>\n",
       "      <td>False</td>\n",
       "      <td>False</td>\n",
       "      <td>False</td>\n",
       "      <td>False</td>\n",
       "      <td>False</td>\n",
       "    </tr>\n",
       "    <tr>\n",
       "      <th>3</th>\n",
       "      <td>False</td>\n",
       "      <td>False</td>\n",
       "      <td>False</td>\n",
       "      <td>False</td>\n",
       "      <td>False</td>\n",
       "      <td>False</td>\n",
       "      <td>False</td>\n",
       "      <td>False</td>\n",
       "      <td>False</td>\n",
       "      <td>False</td>\n",
       "      <td>False</td>\n",
       "      <td>False</td>\n",
       "      <td>False</td>\n",
       "    </tr>\n",
       "    <tr>\n",
       "      <th>4</th>\n",
       "      <td>False</td>\n",
       "      <td>False</td>\n",
       "      <td>False</td>\n",
       "      <td>False</td>\n",
       "      <td>False</td>\n",
       "      <td>True</td>\n",
       "      <td>False</td>\n",
       "      <td>False</td>\n",
       "      <td>False</td>\n",
       "      <td>False</td>\n",
       "      <td>True</td>\n",
       "      <td>False</td>\n",
       "      <td>False</td>\n",
       "    </tr>\n",
       "    <tr>\n",
       "      <th>...</th>\n",
       "      <td>...</td>\n",
       "      <td>...</td>\n",
       "      <td>...</td>\n",
       "      <td>...</td>\n",
       "      <td>...</td>\n",
       "      <td>...</td>\n",
       "      <td>...</td>\n",
       "      <td>...</td>\n",
       "      <td>...</td>\n",
       "      <td>...</td>\n",
       "      <td>...</td>\n",
       "      <td>...</td>\n",
       "      <td>...</td>\n",
       "    </tr>\n",
       "    <tr>\n",
       "      <th>6884</th>\n",
       "      <td>False</td>\n",
       "      <td>False</td>\n",
       "      <td>False</td>\n",
       "      <td>False</td>\n",
       "      <td>True</td>\n",
       "      <td>True</td>\n",
       "      <td>False</td>\n",
       "      <td>False</td>\n",
       "      <td>False</td>\n",
       "      <td>True</td>\n",
       "      <td>True</td>\n",
       "      <td>False</td>\n",
       "      <td>False</td>\n",
       "    </tr>\n",
       "    <tr>\n",
       "      <th>6885</th>\n",
       "      <td>False</td>\n",
       "      <td>False</td>\n",
       "      <td>False</td>\n",
       "      <td>False</td>\n",
       "      <td>True</td>\n",
       "      <td>True</td>\n",
       "      <td>False</td>\n",
       "      <td>False</td>\n",
       "      <td>False</td>\n",
       "      <td>True</td>\n",
       "      <td>True</td>\n",
       "      <td>False</td>\n",
       "      <td>False</td>\n",
       "    </tr>\n",
       "    <tr>\n",
       "      <th>6886</th>\n",
       "      <td>False</td>\n",
       "      <td>False</td>\n",
       "      <td>False</td>\n",
       "      <td>False</td>\n",
       "      <td>True</td>\n",
       "      <td>True</td>\n",
       "      <td>False</td>\n",
       "      <td>False</td>\n",
       "      <td>False</td>\n",
       "      <td>True</td>\n",
       "      <td>True</td>\n",
       "      <td>False</td>\n",
       "      <td>False</td>\n",
       "    </tr>\n",
       "    <tr>\n",
       "      <th>6887</th>\n",
       "      <td>False</td>\n",
       "      <td>False</td>\n",
       "      <td>False</td>\n",
       "      <td>False</td>\n",
       "      <td>True</td>\n",
       "      <td>True</td>\n",
       "      <td>False</td>\n",
       "      <td>False</td>\n",
       "      <td>False</td>\n",
       "      <td>True</td>\n",
       "      <td>True</td>\n",
       "      <td>False</td>\n",
       "      <td>False</td>\n",
       "    </tr>\n",
       "    <tr>\n",
       "      <th>6888</th>\n",
       "      <td>False</td>\n",
       "      <td>False</td>\n",
       "      <td>False</td>\n",
       "      <td>False</td>\n",
       "      <td>True</td>\n",
       "      <td>True</td>\n",
       "      <td>False</td>\n",
       "      <td>False</td>\n",
       "      <td>False</td>\n",
       "      <td>True</td>\n",
       "      <td>True</td>\n",
       "      <td>False</td>\n",
       "      <td>False</td>\n",
       "    </tr>\n",
       "  </tbody>\n",
       "</table>\n",
       "<p>6889 rows × 13 columns</p>\n",
       "</div>"
      ],
      "text/plain": [
       "      customer_id  tran_amount_2011  tran_amount_2012  tran_amount_2013  \\\n",
       "0           False             False             False             False   \n",
       "1           False             False             False             False   \n",
       "2           False             False             False             False   \n",
       "3           False             False             False             False   \n",
       "4           False             False             False             False   \n",
       "...           ...               ...               ...               ...   \n",
       "6884        False             False             False             False   \n",
       "6885        False             False             False             False   \n",
       "6886        False             False             False             False   \n",
       "6887        False             False             False             False   \n",
       "6888        False             False             False             False   \n",
       "\n",
       "      tran_amount_2014  tran_amount_2015  transactions_2011  \\\n",
       "0                False             False              False   \n",
       "1                False              True              False   \n",
       "2                False             False              False   \n",
       "3                False             False              False   \n",
       "4                False              True              False   \n",
       "...                ...               ...                ...   \n",
       "6884              True              True              False   \n",
       "6885              True              True              False   \n",
       "6886              True              True              False   \n",
       "6887              True              True              False   \n",
       "6888              True              True              False   \n",
       "\n",
       "      transactions_2012  transactions_2013  transactions_2014  \\\n",
       "0                 False              False              False   \n",
       "1                 False              False              False   \n",
       "2                 False              False              False   \n",
       "3                 False              False              False   \n",
       "4                 False              False              False   \n",
       "...                 ...                ...                ...   \n",
       "6884              False              False               True   \n",
       "6885              False              False               True   \n",
       "6886              False              False               True   \n",
       "6887              False              False               True   \n",
       "6888              False              False               True   \n",
       "\n",
       "      transactions_2015  First_Transaction  Latest_Transaction  \n",
       "0                 False              False               False  \n",
       "1                  True              False               False  \n",
       "2                 False              False               False  \n",
       "3                 False              False               False  \n",
       "4                  True              False               False  \n",
       "...                 ...                ...                 ...  \n",
       "6884               True              False               False  \n",
       "6885               True              False               False  \n",
       "6886               True              False               False  \n",
       "6887               True              False               False  \n",
       "6888               True              False               False  \n",
       "\n",
       "[6889 rows x 13 columns]"
      ]
     },
     "execution_count": 92,
     "metadata": {},
     "output_type": "execute_result"
    }
   ],
   "source": [
    "#We can get the count of missing values using (.isnull())\n"
   ]
  },
  {
   "cell_type": "markdown",
   "metadata": {},
   "source": [
    "### Using (.isnull() & .sum()) to find count of missing values"
   ]
  },
  {
   "cell_type": "code",
   "execution_count": 105,
   "metadata": {},
   "outputs": [
    {
     "data": {
      "text/plain": [
       "customer_id              0\n",
       "tran_amount_2011       388\n",
       "tran_amount_2012        80\n",
       "tran_amount_2013        85\n",
       "tran_amount_2014        88\n",
       "tran_amount_2015      2664\n",
       "transactions_2011      388\n",
       "transactions_2012       80\n",
       "transactions_2013       85\n",
       "transactions_2014       88\n",
       "transactions_2015     2664\n",
       "First_Transaction        0\n",
       "Latest_Transaction       0\n",
       "dtype: int64"
      ]
     },
     "execution_count": 105,
     "metadata": {},
     "output_type": "execute_result"
    }
   ],
   "source": [
    "#We now get the count of True's using the (.sum())\n"
   ]
  },
  {
   "cell_type": "code",
   "execution_count": 94,
   "metadata": {},
   "outputs": [
    {
     "data": {
      "text/plain": [
       "customer_id     0\n",
       "Name            0\n",
       "Geography       0\n",
       "Gender          0\n",
       "Age            71\n",
       "dtype: int64"
      ]
     },
     "execution_count": 94,
     "metadata": {},
     "output_type": "execute_result"
    }
   ],
   "source": [
    "#Similarly we could check it for customers\n"
   ]
  },
  {
   "cell_type": "markdown",
   "metadata": {},
   "source": [
    "## Find the number of Respondents of a recent Email campaign\n",
    "**Concepts Covered:**\n",
    "1. Import other formats of data (json)"
   ]
  },
  {
   "cell_type": "markdown",
   "metadata": {},
   "source": [
    "### Import JSON format data into Pandas"
   ]
  },
  {
   "cell_type": "code",
   "execution_count": 95,
   "metadata": {},
   "outputs": [],
   "source": [
    "#Import Email response data which is in JSON format \n"
   ]
  },
  {
   "cell_type": "code",
   "execution_count": 96,
   "metadata": {},
   "outputs": [
    {
     "data": {
      "text/html": [
       "<div>\n",
       "<style scoped>\n",
       "    .dataframe tbody tr th:only-of-type {\n",
       "        vertical-align: middle;\n",
       "    }\n",
       "\n",
       "    .dataframe tbody tr th {\n",
       "        vertical-align: top;\n",
       "    }\n",
       "\n",
       "    .dataframe thead th {\n",
       "        text-align: right;\n",
       "    }\n",
       "</style>\n",
       "<table border=\"1\" class=\"dataframe\">\n",
       "  <thead>\n",
       "    <tr style=\"text-align: right;\">\n",
       "      <th></th>\n",
       "      <th>customer_id</th>\n",
       "      <th>response</th>\n",
       "    </tr>\n",
       "  </thead>\n",
       "  <tbody>\n",
       "    <tr>\n",
       "      <th>0</th>\n",
       "      <td>CS1112</td>\n",
       "      <td>0</td>\n",
       "    </tr>\n",
       "    <tr>\n",
       "      <th>1</th>\n",
       "      <td>CS1113</td>\n",
       "      <td>0</td>\n",
       "    </tr>\n",
       "    <tr>\n",
       "      <th>2</th>\n",
       "      <td>CS1114</td>\n",
       "      <td>1</td>\n",
       "    </tr>\n",
       "    <tr>\n",
       "      <th>3</th>\n",
       "      <td>CS1115</td>\n",
       "      <td>1</td>\n",
       "    </tr>\n",
       "    <tr>\n",
       "      <th>4</th>\n",
       "      <td>CS1116</td>\n",
       "      <td>1</td>\n",
       "    </tr>\n",
       "    <tr>\n",
       "      <th>...</th>\n",
       "      <td>...</td>\n",
       "      <td>...</td>\n",
       "    </tr>\n",
       "    <tr>\n",
       "      <th>6879</th>\n",
       "      <td>CS8996</td>\n",
       "      <td>0</td>\n",
       "    </tr>\n",
       "    <tr>\n",
       "      <th>6880</th>\n",
       "      <td>CS8997</td>\n",
       "      <td>0</td>\n",
       "    </tr>\n",
       "    <tr>\n",
       "      <th>6881</th>\n",
       "      <td>CS8998</td>\n",
       "      <td>0</td>\n",
       "    </tr>\n",
       "    <tr>\n",
       "      <th>6882</th>\n",
       "      <td>CS8999</td>\n",
       "      <td>0</td>\n",
       "    </tr>\n",
       "    <tr>\n",
       "      <th>6883</th>\n",
       "      <td>CS9000</td>\n",
       "      <td>0</td>\n",
       "    </tr>\n",
       "  </tbody>\n",
       "</table>\n",
       "<p>6884 rows × 2 columns</p>\n",
       "</div>"
      ],
      "text/plain": [
       "     customer_id  response\n",
       "0         CS1112         0\n",
       "1         CS1113         0\n",
       "2         CS1114         1\n",
       "3         CS1115         1\n",
       "4         CS1116         1\n",
       "...          ...       ...\n",
       "6879      CS8996         0\n",
       "6880      CS8997         0\n",
       "6881      CS8998         0\n",
       "6882      CS8999         0\n",
       "6883      CS9000         0\n",
       "\n",
       "[6884 rows x 2 columns]"
      ]
     },
     "execution_count": 96,
     "metadata": {},
     "output_type": "execute_result"
    }
   ],
   "source": [
    "#Lets check the data\n"
   ]
  },
  {
   "cell_type": "code",
   "execution_count": 103,
   "metadata": {},
   "outputs": [
    {
     "data": {
      "text/plain": [
       "647"
      ]
     },
     "execution_count": 103,
     "metadata": {},
     "output_type": "execute_result"
    }
   ],
   "source": [
    "#We will sum up the response column to get the number of respondents\n"
   ]
  },
  {
   "cell_type": "markdown",
   "metadata": {},
   "source": [
    "## Provide the list of Repondents in a Excel format with Customer details \n",
    "**Concepts Covered:**\n",
    "1. Export Single Dataframe to Excel (.to_Excel())\n",
    "1. Export Multiple Dataframe to Excel (.ExcelWriter())"
   ]
  },
  {
   "cell_type": "markdown",
   "metadata": {},
   "source": [
    "### Export Single Dataframe to Excel (.to_excel())"
   ]
  },
  {
   "cell_type": "code",
   "execution_count": 98,
   "metadata": {},
   "outputs": [],
   "source": [
    "#If we want to export the JSON data to Excel we could use the .to_excel() method\n"
   ]
  },
  {
   "cell_type": "code",
   "execution_count": 99,
   "metadata": {},
   "outputs": [],
   "source": [
    "#We could remove the Dataframe index, using the (index = False) argument\n"
   ]
  },
  {
   "cell_type": "markdown",
   "metadata": {},
   "source": [
    "### Export Multiple Dataframe to Excel (.ExcelWriter())"
   ]
  },
  {
   "cell_type": "code",
   "execution_count": 100,
   "metadata": {},
   "outputs": [],
   "source": [
    "#Create a Pandas Excel Writer using (.ExcelWriter())\n"
   ]
  },
  {
   "cell_type": "code",
   "execution_count": 101,
   "metadata": {},
   "outputs": [],
   "source": [
    "#Export mutiple dataframes using different sheet name\n"
   ]
  },
  {
   "cell_type": "code",
   "execution_count": 102,
   "metadata": {},
   "outputs": [],
   "source": [
    "#Close the Excel Writer and output the Excel file\n"
   ]
  },
  {
   "cell_type": "code",
   "execution_count": null,
   "metadata": {},
   "outputs": [],
   "source": [
    "#While exporting we can compress and store data\n"
   ]
  },
  {
   "cell_type": "markdown",
   "metadata": {},
   "source": [
    "## Transactions data takes too much space. Can you reduce the size for storing?\n",
    "1. Export data with compression using (compression = 'gzip') argument\n",
    "2. Import compressed(.gz) files"
   ]
  },
  {
   "cell_type": "code",
   "execution_count": null,
   "metadata": {},
   "outputs": [],
   "source": [
    "#We can import is using the (.read_csv()) method\n"
   ]
  },
  {
   "cell_type": "code",
   "execution_count": null,
   "metadata": {},
   "outputs": [],
   "source": [
    "#Lets check the data\n"
   ]
  },
  {
   "cell_type": "markdown",
   "metadata": {},
   "source": [
    "# END\n",
    "**Pandas Concepts Covered:**\n",
    "1. Reading data into Pandas Dataframes (.read_csv(), .read_json())\n",
    "2. Investigating data (.info(), .describe(), dtypes, shape, columns)\n",
    "3. Converting Date columns to date time format (.to_datetime())\n",
    "4. Finding count of missing values in a column (.isnull() and .sum())\n",
    "5. Export dataframe(dataframes) (.to_csv(), ExcelWriter())\n",
    "6. Compressing data while exporting"
   ]
  }
 ],
 "metadata": {
  "kernelspec": {
   "display_name": "Python 3",
   "language": "python",
   "name": "python3"
  },
  "language_info": {
   "codemirror_mode": {
    "name": "ipython",
    "version": 3
   },
   "file_extension": ".py",
   "mimetype": "text/x-python",
   "name": "python",
   "nbconvert_exporter": "python",
   "pygments_lexer": "ipython3",
   "version": "3.7.3"
  },
  "toc": {
   "base_numbering": 1,
   "nav_menu": {},
   "number_sections": true,
   "sideBar": true,
   "skip_h1_title": false,
   "title_cell": "Table of Contents",
   "title_sidebar": "Contents",
   "toc_cell": false,
   "toc_position": {
    "height": "calc(100% - 180px)",
    "left": "10px",
    "top": "150px",
    "width": "335.667px"
   },
   "toc_section_display": true,
   "toc_window_display": false
  }
 },
 "nbformat": 4,
 "nbformat_minor": 2
}
