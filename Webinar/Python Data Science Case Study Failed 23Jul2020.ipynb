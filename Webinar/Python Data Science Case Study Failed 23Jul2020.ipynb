{
 "cells": [
  {
   "cell_type": "code",
   "execution_count": 4,
   "metadata": {},
   "outputs": [],
   "source": [
    "#Import Libraries\n",
    "from sqlalchemy import create_engine\n",
    "import sqlite3 \n",
    "import pandas as pd"
   ]
  },
  {
   "cell_type": "code",
   "execution_count": 5,
   "metadata": {},
   "outputs": [
    {
     "name": "stdout",
     "output_type": "stream",
     "text": [
      "2020-07-23 13:55:03,516 INFO sqlalchemy.engine.base.Engine SELECT CAST('test plain returns' AS VARCHAR(60)) AS anon_1\n",
      "2020-07-23 13:55:03,521 INFO sqlalchemy.engine.base.Engine ()\n",
      "2020-07-23 13:55:03,523 INFO sqlalchemy.engine.base.Engine SELECT CAST('test unicode returns' AS VARCHAR(60)) AS anon_1\n",
      "2020-07-23 13:55:03,525 INFO sqlalchemy.engine.base.Engine ()\n"
     ]
    }
   ],
   "source": [
    "engine = create_engine('sqlite:///save_pandas.db', echo=True)\n",
    "sqlite_connection = engine.connect()"
   ]
  },
  {
   "cell_type": "code",
   "execution_count": 6,
   "metadata": {},
   "outputs": [],
   "source": [
    "order = pd.read_csv('TR_OrderDetails.csv')"
   ]
  },
  {
   "cell_type": "code",
   "execution_count": 8,
   "metadata": {},
   "outputs": [
    {
     "name": "stdout",
     "output_type": "stream",
     "text": [
      "2020-07-23 13:56:50,890 INFO sqlalchemy.engine.base.Engine PRAGMA table_info(\"order\")\n",
      "2020-07-23 13:56:50,891 INFO sqlalchemy.engine.base.Engine ()\n",
      "2020-07-23 13:56:50,893 INFO sqlalchemy.engine.base.Engine \n",
      "CREATE TABLE \"order\" (\n",
      "\t\"index\" BIGINT, \n",
      "\t\"OrderID\" BIGINT, \n",
      "\t\"OrderDate\" TEXT, \n",
      "\t\"PropertyID\" BIGINT, \n",
      "\t\"ProductID\" BIGINT, \n",
      "\t\"Quantity\" BIGINT\n",
      ")\n",
      "\n",
      "\n",
      "2020-07-23 13:56:50,894 INFO sqlalchemy.engine.base.Engine ()\n",
      "2020-07-23 13:56:50,906 INFO sqlalchemy.engine.base.Engine COMMIT\n",
      "2020-07-23 13:56:50,907 INFO sqlalchemy.engine.base.Engine CREATE INDEX ix_order_index ON \"order\" (\"index\")\n",
      "2020-07-23 13:56:50,907 INFO sqlalchemy.engine.base.Engine ()\n",
      "2020-07-23 13:56:50,916 INFO sqlalchemy.engine.base.Engine COMMIT\n",
      "2020-07-23 13:56:50,919 INFO sqlalchemy.engine.base.Engine BEGIN (implicit)\n",
      "2020-07-23 13:56:50,941 INFO sqlalchemy.engine.base.Engine INSERT INTO \"order\" (\"index\", \"OrderID\", \"OrderDate\", \"PropertyID\", \"ProductID\", \"Quantity\") VALUES (?, ?, ?, ?, ?, ?)\n",
      "2020-07-23 13:56:50,942 INFO sqlalchemy.engine.base.Engine ((0, 1, '01-01-2015', 17, 41, 1), (1, 2, '01-01-2015', 15, 54, 2), (2, 3, '01-01-2015', 5, 71, 2), (3, 4, '01-01-2015', 19, 3, 2), (4, 5, '01-01-2015', 12, 45, 3), (5, 6, '01-01-2015', 6, 94, 2), (6, 7, '01-01-2015', 5, 35, 2), (7, 8, '02-01-2015', 16, 93, 1)  ... displaying 10 of 5000 total bound parameter sets ...  (4998, 4999, '31-12-2016', 17, 57, 1), (4999, 5000, '31-12-2016', 1, 9, 2))\n",
      "2020-07-23 13:56:50,958 INFO sqlalchemy.engine.base.Engine COMMIT\n"
     ]
    }
   ],
   "source": [
    "sqlite_table = \"order\"\n",
    "order.to_sql(sqlite_table, sqlite_connection, if_exists='fail')"
   ]
  },
  {
   "cell_type": "code",
   "execution_count": 9,
   "metadata": {},
   "outputs": [],
   "source": [
    "sqlite_connection.close()"
   ]
  },
  {
   "cell_type": "code",
   "execution_count": 10,
   "metadata": {},
   "outputs": [
    {
     "data": {
      "text/plain": [
       "<module 'sqlite3' from 'C:\\\\Users\\\\k_naik\\\\AppData\\\\Local\\\\Continuum\\\\anaconda3\\\\lib\\\\sqlite3\\\\__init__.py'>"
      ]
     },
     "execution_count": 10,
     "metadata": {},
     "output_type": "execute_result"
    }
   ],
   "source": [
    "sqlite3"
   ]
  },
  {
   "cell_type": "code",
   "execution_count": null,
   "metadata": {},
   "outputs": [],
   "source": []
  },
  {
   "cell_type": "code",
   "execution_count": 17,
   "metadata": {},
   "outputs": [],
   "source": [
    "# connecting to the database\n",
    "connection = sqlite3.connect(\"order.db\") "
   ]
  },
  {
   "cell_type": "code",
   "execution_count": 18,
   "metadata": {},
   "outputs": [],
   "source": [
    "# cursor\n",
    "crsr = connection.cursor() "
   ]
  },
  {
   "cell_type": "code",
   "execution_count": 19,
   "metadata": {},
   "outputs": [],
   "source": [
    "sql_command = \"\"\"select * from order;\"\"\""
   ]
  },
  {
   "cell_type": "code",
   "execution_count": 20,
   "metadata": {},
   "outputs": [
    {
     "ename": "OperationalError",
     "evalue": "near \"order\": syntax error",
     "output_type": "error",
     "traceback": [
      "\u001b[1;31m---------------------------------------------------------------------------\u001b[0m",
      "\u001b[1;31mOperationalError\u001b[0m                          Traceback (most recent call last)",
      "\u001b[1;32m<ipython-input-20-0f422dd88577>\u001b[0m in \u001b[0;36m<module>\u001b[1;34m\u001b[0m\n\u001b[1;32m----> 1\u001b[1;33m \u001b[0mcrsr\u001b[0m\u001b[1;33m.\u001b[0m\u001b[0mexecute\u001b[0m\u001b[1;33m(\u001b[0m\u001b[0msql_command\u001b[0m\u001b[1;33m)\u001b[0m\u001b[1;33m\u001b[0m\u001b[1;33m\u001b[0m\u001b[0m\n\u001b[0m",
      "\u001b[1;31mOperationalError\u001b[0m: near \"order\": syntax error"
     ]
    }
   ],
   "source": [
    "crsr.execute(sql_command) "
   ]
  },
  {
   "cell_type": "code",
   "execution_count": null,
   "metadata": {},
   "outputs": [],
   "source": []
  }
 ],
 "metadata": {
  "kernelspec": {
   "display_name": "Python 3",
   "language": "python",
   "name": "python3"
  },
  "language_info": {
   "codemirror_mode": {
    "name": "ipython",
    "version": 3
   },
   "file_extension": ".py",
   "mimetype": "text/x-python",
   "name": "python",
   "nbconvert_exporter": "python",
   "pygments_lexer": "ipython3",
   "version": "3.7.1"
  }
 },
 "nbformat": 4,
 "nbformat_minor": 2
}
